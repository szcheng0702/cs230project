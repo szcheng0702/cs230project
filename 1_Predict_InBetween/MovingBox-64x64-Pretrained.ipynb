{
 "cells": [
  {
   "cell_type": "markdown",
   "metadata": {},
   "source": [
    "# MovingBox | 64 x 64 |  - Encoder Decoder_ Pretrained"
   ]
  },
  {
   "cell_type": "code",
   "execution_count": 2,
   "metadata": {
    "collapsed": false
   },
   "outputs": [],
   "source": [
    "from util import *\n",
    "from util.parser import *\n",
    "from util.img_kit import *\n",
    "from util.notebook_display import *\n",
    "from util.numeric_ops import *\n",
    "from IPython.display import Image, HTML\n",
    "import pandas as pd\n",
    "from util.tf_ops import *\n",
    "\n",
    "from IPython import display\n",
    "import numpy as np\n",
    "from scipy import ndimage\n",
    "from scipy import misc\n",
    "from os import walk\n",
    "import os\n",
    "import tensorflow as tf\n",
    "from PIL import Image\n",
    "\n",
    "import matplotlib.pyplot as plt\n",
    "%matplotlib inline\n",
    "plt.rcParams['image.interpolation'] = 'nearest'\n",
    "plt.rcParams['figure.figsize'] = (5.0, 5.0) # set default size of plots\n",
    "plt.rcParams['image.cmap'] = 'gray'\n",
    "\n",
    "%load_ext autoreload\n",
    "%autoreload 2"
   ]
  },
  {
   "cell_type": "markdown",
   "metadata": {},
   "source": [
    "## Collect an ensemble of box data"
   ]
  },
  {
   "cell_type": "code",
   "execution_count": 4,
   "metadata": {
    "collapsed": false
   },
   "outputs": [
    {
     "name": "stdout",
     "output_type": "stream",
     "text": [
      "{'images:': 'bigsquare-vertical-4', 'dim': (56, 64, 64)}\n",
      "{'images:': 'bigCircle-3', 'dim': (56, 64, 64)}\n",
      "{'images:': 'circle-diagnal-2', 'dim': (56, 64, 64)}\n",
      "{'images:': 'bigSquare-diagnal-2', 'dim': (56, 64, 64)}\n",
      "{'images:': 'diamond-vertical1', 'dim': (56, 64, 64)}\n",
      "{'images:': 'bigSquare-vertical-2', 'dim': (56, 64, 64)}\n",
      "{'images:': 'diamond-vertical2', 'dim': (56, 64, 64)}\n",
      "{'images:': 'bigCircle-2', 'dim': (56, 64, 64)}\n",
      "{'images:': 'diamond-vertical3', 'dim': (56, 64, 64)}\n",
      "{'images:': 'diamond-diagnal1', 'dim': (56, 64, 64)}\n",
      "{'images:': 'bigsquare-vertical-5', 'dim': (56, 64, 64)}\n",
      "{'images:': 'circle', 'dim': (56, 64, 64)}\n",
      "{'images:': 'circle-diagnal', 'dim': (56, 64, 64)}\n",
      "{'images:': 'diamond-diagnal2', 'dim': (56, 64, 64)}\n",
      "{'images:': 'bigCircle-4', 'dim': (56, 64, 64)}\n",
      "{'images:': 'bigSquare-vertical-3', 'dim': (56, 64, 64)}\n",
      "{'images:': 'bigSquare-vertical', 'dim': (56, 64, 64)}\n",
      "\n",
      "After Augmentation: img_collections has 68 collections, 3808 images in total\n"
     ]
    }
   ],
   "source": [
    "train_collection = get_collection(\"data/moving-box/64x64/train\")\n",
    "train_collection = augment_reverse_color(train_collection)\n",
    "train_collection = augment_reverse_sequence(train_collection)\n",
    "train_collection = center_collections(train_collection)\n",
    "total_train = sum([x.shape[0] for x in train_collection])\n",
    "print(\"\\nAfter Augmentation: img_collections has {} collections, {} images in total\".format(len(train_collection), total_train))"
   ]
  },
  {
   "cell_type": "code",
   "execution_count": 5,
   "metadata": {
    "collapsed": false
   },
   "outputs": [
    {
     "name": "stdout",
     "output_type": "stream",
     "text": [
      "{'images:': 'bigCircle', 'dim': (56, 64, 64)}\n",
      "{'images:': 'bigSquare-diagnal', 'dim': (56, 64, 64)}\n",
      "{'images:': 'diamond', 'dim': (56, 64, 64)}\n",
      "\n",
      "After Augmentation: Test set has 6 collections, 336 images in total\n"
     ]
    }
   ],
   "source": [
    "test_collection = get_collection(\"data/moving-box/64x64/test\")\n",
    "test_collection = augment_reverse_color(test_collection)\n",
    "test_collection = center_collections(test_collection)\n",
    "total_test = sum([x.shape[0] for x in test_collection])\n",
    "print(\"\\nAfter Augmentation: Test set has {} collections, {} images in total\".format(len(test_collection), total_test))"
   ]
  },
  {
   "cell_type": "markdown",
   "metadata": {},
   "source": [
    "## Sample from Collection"
   ]
  },
  {
   "cell_type": "code",
   "execution_count": 6,
   "metadata": {
    "collapsed": true
   },
   "outputs": [],
   "source": [
    "def sample(collection, batch_size = 8, gap = 1):\n",
    "    \"\"\"\n",
    "    Input:\n",
    "        collection: [img_data] - list of ndarray\n",
    "    Output:\n",
    "        before_imgs, after_img, mid_imgs -  [batch size, 32, 32]\n",
    "    \"\"\"\n",
    "    assert gap%2==1, \"Gap must be odd !\"      \n",
    "    np.random.shuffle(collection)\n",
    "    # get average number of training for each class\n",
    "    n_collection = len(collection)\n",
    "    num_per_collection = [x.shape[0] for x in collection]\n",
    "    avg_num_per_class = int(np.ceil(batch_size/n_collection))\n",
    "    # before-index for each class\n",
    "    before_ind = []\n",
    "    for i, imgs in enumerate(collection):\n",
    "        try:\n",
    "            s = np.random.choice(range(num_per_collection[i] - gap - 1), avg_num_per_class, replace=False)\n",
    "            before_ind.append(s)\n",
    "        except: # if not enough in this class\n",
    "            before_ind.append(np.array([]))\n",
    "    # after-index for each class\n",
    "    after_ind = [x+gap+1 for x in before_ind]\n",
    "    # mid-index for each class\n",
    "    mid_ind = [x+(gap+1)//2 for x in before_ind]\n",
    "    \n",
    "    selected_classes = [i for i in range(n_collection) if before_ind[i].shape[0]>0]\n",
    "    before_imgs = np.concatenate([collection[i][before_ind[i]] for i in selected_classes], axis = 0)\n",
    "    after_imgs = np.concatenate([collection[i][after_ind[i]] for i in selected_classes], axis = 0)\n",
    "    mid_imgs = np.concatenate([collection[i][mid_ind[i]] for i in selected_classes], axis = 0)\n",
    "    \n",
    "    before_imgs = before_imgs[:batch_size]\n",
    "    mid_imgs = mid_imgs[:batch_size]\n",
    "    after_imgs = after_imgs[:batch_size]\n",
    "    return before_imgs, after_imgs, mid_imgs\n",
    "\n",
    "\n",
    "def sample_train(batch_size = 8, gap = 1): return sample(train_collection, batch_size, gap = gap)\n",
    "\n",
    "def sample_test(batch_size = 8, gap = 1):  return sample(test_collection, batch_size, gap)"
   ]
  },
  {
   "cell_type": "markdown",
   "metadata": {},
   "source": [
    "## Take a look at Training data"
   ]
  },
  {
   "cell_type": "code",
   "execution_count": 8,
   "metadata": {
    "collapsed": false
   },
   "outputs": [
    {
     "name": "stdout",
     "output_type": "stream",
     "text": [
      "Range of Image Piece Value: [-1.0, 1.0]\n",
      "Before: (8, 64, 64)\n",
      "After:  (8, 64, 64)\n",
      "Mid:    (8, 64, 64)\n"
     ]
    },
    {
     "data": {
      "image/png": "[encoded data removed]",
      "text/plain": [
       "<matplotlib.figure.Figure at 0x7f2310dbce48>"
      ]
     },
     "metadata": {},
     "output_type": "display_data"
    },
    {
     "data": {
      "image/png": "[encoded data removed]",
      "text/plain": [
       "<matplotlib.figure.Figure at 0x7f23106e0a58>"
      ]
     },
     "metadata": {},
     "output_type": "display_data"
    },
    {
     "data": {
      "image/png": "[encoded data removed]",
      "text/plain": [
       "<matplotlib.figure.Figure at 0x7f2310d02be0>"
      ]
     },
     "metadata": {},
     "output_type": "display_data"
    }
   ],
   "source": [
    "def show_sample_train(batch_size, gap):\n",
    "    before, after, mid = sample_train(batch_size=batch_size, gap=gap)\n",
    "    print(\"Range of Image Piece Value: [{}, {}]\".format(np.min(mid), np.max(mid)))\n",
    "    print(\"Before: {}\".format(before.shape))\n",
    "    print(\"After:  {}\".format(after.shape))\n",
    "    print(\"Mid:    {}\".format(mid.shape))\n",
    "    size = (20, 2)\n",
    "    plot_images(before, size, \"Before\")\n",
    "    plot_images(mid, size, \"Mid\")\n",
    "    plot_images(after, size, \"After\")\n",
    "    \n",
    "show_sample_train(batch_size = 8, gap = 3)"
   ]
  },
  {
   "cell_type": "markdown",
   "metadata": {},
   "source": [
    "# Param"
   ]
  },
  {
   "cell_type": "code",
   "execution_count": 9,
   "metadata": {
    "collapsed": true
   },
   "outputs": [],
   "source": [
    "pretrained_model_folder = \"trained_model/box-64x64/2/\"\n",
    "pretrained_model_path = pretrained_model_folder + \"-4000.meta\"\n",
    "batch_size = 6"
   ]
  },
  {
   "cell_type": "code",
   "execution_count": 10,
   "metadata": {
    "collapsed": true
   },
   "outputs": [],
   "source": [
    "def get_generattion(before, after, mid):\n",
    "    dic = {batch_before: before, batch_after: after, batch_mid: mid, is_training: False}\n",
    "    gen_batch = sess.run(G_batch, dic)\n",
    "    return gen_batch"
   ]
  },
  {
   "cell_type": "markdown",
   "metadata": {},
   "source": [
    "## Load Model"
   ]
  },
  {
   "cell_type": "code",
   "execution_count": 11,
   "metadata": {
    "collapsed": false
   },
   "outputs": [],
   "source": [
    "sess = tf.Session()\n",
    "saver = tf.train.import_meta_graph(pretrained_model_path)\n",
    "saver.restore(sess, tf.train.latest_checkpoint(pretrained_model_folder))\n",
    "graph = tf.get_default_graph()"
   ]
  },
  {
   "cell_type": "markdown",
   "metadata": {},
   "source": [
    "### get place holders"
   ]
  },
  {
   "cell_type": "code",
   "execution_count": 13,
   "metadata": {
    "collapsed": true
   },
   "outputs": [],
   "source": [
    "batch_mid = graph.get_tensor_by_name(\"batch_mid:0\")\n",
    "batch_before = graph.get_tensor_by_name(\"batch_before:0\")\n",
    "batch_after = graph.get_tensor_by_name(\"batch_after:0\")\n",
    "is_training = graph.get_tensor_by_name(\"is_training:0\")"
   ]
  },
  {
   "cell_type": "code",
   "execution_count": 14,
   "metadata": {
    "collapsed": true
   },
   "outputs": [],
   "source": [
    "G_batch = tf.get_collection(\"G_batch\")[0]\n",
    "loss = tf.get_collection(\"loss\")[0]"
   ]
  },
  {
   "cell_type": "markdown",
   "metadata": {},
   "source": [
    "### Report Loss = loss_computed * 255 / batch_size"
   ]
  },
  {
   "cell_type": "code",
   "execution_count": 15,
   "metadata": {
    "collapsed": true
   },
   "outputs": [],
   "source": [
    "def report_loss(name, batch_size, num_run = 100, gap = 3):\n",
    "    losses = []\n",
    "    for _ in range(num_run):\n",
    "        if name == \"train\": before, after, mid = sample_train(batch_size, gap)\n",
    "        elif name == \"val\": before, after, mid = sample_dev(batch_size, gap)\n",
    "        else:                before, after, mid = sample_test(batch_size, gap) \n",
    "        loss_val = sess.run(loss, \\\n",
    "                        feed_dict = {batch_before: before, batch_after: after, batch_mid: mid, is_training: False})\n",
    "        losses.append(loss_val)\n",
    "    return scale_loss(np.mean(losses) / batch_size, 2)"
   ]
  },
  {
   "cell_type": "code",
   "execution_count": 16,
   "metadata": {
    "collapsed": true
   },
   "outputs": [],
   "source": [
    "def show_generations(name, num = 6, gap = 3):\n",
    "    if name == \"train\":   before, after, mid = sample_train(num, gap)\n",
    "    elif name == \"test\":  before, after, mid = sample_test(num, gap) \n",
    "    else:                 before, after, mid = sample_marple(num, gap) \n",
    "    \n",
    "    gen_batch = get_generattion(before, after, mid)\n",
    "    size = (20, 2)\n",
    "    plot_images(before, size, \"Before\")\n",
    "    plot_images(after, size, \"After\")\n",
    "    plot_images(mid, size, \"Mid - Real\")\n",
    "    plot_images(gen_batch, size, \"Mid - Generated\")"
   ]
  },
  {
   "cell_type": "markdown",
   "metadata": {},
   "source": [
    "## - Evaluate on Training Data"
   ]
  },
  {
   "cell_type": "code",
   "execution_count": 18,
   "metadata": {
    "collapsed": false,
    "scrolled": false
   },
   "outputs": [
    {
     "data": {
      "image/png": "[encoded data removed]",
      "text/plain": [
       "<matplotlib.figure.Figure at 0x7f22b47022b0>"
      ]
     },
     "metadata": {},
     "output_type": "display_data"
    },
    {
     "data": {
      "image/png": "[encoded data removed]",
      "text/plain": [
       "<matplotlib.figure.Figure at 0x7f230f16ef98>"
      ]
     },
     "metadata": {},
     "output_type": "display_data"
    },
    {
     "data": {
      "image/png": "[encoded data removed]",
      "text/plain": [
       "<matplotlib.figure.Figure at 0x7f230411c5f8>"
      ]
     },
     "metadata": {},
     "output_type": "display_data"
    },
    {
     "data": {
      "image/png": "[encoded data removed]",
      "text/plain": [
       "<matplotlib.figure.Figure at 0x7f2310bee390>"
      ]
     },
     "metadata": {},
     "output_type": "display_data"
    },
    {
     "name": "stdout",
     "output_type": "stream",
     "text": [
      "Training Loss = 93.38701128959656\n"
     ]
    }
   ],
   "source": [
    "def eval_train(num_show = 8, gap = 3):\n",
    "    show_generations(\"train\", num_show, gap)\n",
    "    loss = report_loss(\"train\", batch_size = 6, num_run = 10, gap = gap)\n",
    "    print(\"Training Loss = {}\".format(loss))\n",
    "    return loss\n",
    "\n",
    "train_loss = eval_train(num_show = 8, gap = 1)"
   ]
  },
  {
   "cell_type": "markdown",
   "metadata": {},
   "source": [
    "## - Evaluate on Test Data"
   ]
  },
  {
   "cell_type": "code",
   "execution_count": 20,
   "metadata": {
    "collapsed": false
   },
   "outputs": [
    {
     "data": {
      "image/png": "[encoded data removed]",
      "text/plain": [
       "<matplotlib.figure.Figure at 0x7f22b465fef0>"
      ]
     },
     "metadata": {},
     "output_type": "display_data"
    },
    {
     "data": {
      "image/png": "[encoded data removed]",
      "text/plain": [
       "<matplotlib.figure.Figure at 0x7f23040dc160>"
      ]
     },
     "metadata": {},
     "output_type": "display_data"
    },
    {
     "data": {
      "image/png": "[encoded data removed]",
      "text/plain": [
       "<matplotlib.figure.Figure at 0x7f230468da20>"
      ]
     },
     "metadata": {},
     "output_type": "display_data"
    },
    {
     "data": {
      "image/png": "[encoded data removed]",
      "text/plain": [
       "<matplotlib.figure.Figure at 0x7f23109e09e8>"
      ]
     },
     "metadata": {},
     "output_type": "display_data"
    },
    {
     "name": "stdout",
     "output_type": "stream",
     "text": [
      "Test Loss = 217.08954572677612\n"
     ]
    }
   ],
   "source": [
    "def eval_test(num_show = 6, gap = 3, num_test = 100, batch_size = batch_size):\n",
    "    show_generations(\"test\", num_show, gap)\n",
    "    loss = report_loss(\"test\", batch_size = 6, num_run = 10, gap = gap)\n",
    "    print(\"Test Loss = {}\".format(loss))\n",
    "    return loss\n",
    "\n",
    "test_loss = eval_test(num_show = 8, gap=1, batch_size = 8, num_test=10)"
   ]
  },
  {
   "cell_type": "markdown",
   "metadata": {},
   "source": [
    "## How much overfitting?"
   ]
  },
  {
   "cell_type": "code",
   "execution_count": 21,
   "metadata": {
    "collapsed": false
   },
   "outputs": [
    {
     "name": "stdout",
     "output_type": "stream",
     "text": [
      "(Test Loss - Train Loss)/Train Loss = 1.3246224793892745\n"
     ]
    }
   ],
   "source": [
    "print(\"(Test Loss - Train Loss)/Train Loss = {}\".format((test_loss-train_loss)/train_loss))"
   ]
  },
  {
   "cell_type": "markdown",
   "metadata": {},
   "source": [
    "# Test on a different dataset"
   ]
  },
  {
   "cell_type": "code",
   "execution_count": 22,
   "metadata": {
    "collapsed": true
   },
   "outputs": [],
   "source": [
    "# def eval_test_diff(num_show = 6, gap = 3, num_test = 100, batch_size = batch_size):\n",
    "#     show_generations(\"marple\", num_show, gap)\n",
    "#     loss = report_loss(\"marple test\", batch_size = 6, num_run = 10, gap = gap)\n",
    "#     print(\"Test Loss = {}\".format(loss))\n",
    "#     return loss\n",
    "\n",
    "# marple_loss = eval_test_diff(num_show = 4, gap=5, batch_size = 8, num_test=10)"
   ]
  },
  {
   "cell_type": "markdown",
   "metadata": {
    "collapsed": true
   },
   "source": [
    "# Generate Flow "
   ]
  },
  {
   "cell_type": "code",
   "execution_count": 23,
   "metadata": {
    "collapsed": true
   },
   "outputs": [],
   "source": [
    "def display_gifs(gifs, names, width=100):\n",
    "    header = ''.join('<th style=\"text-align: left\">{}</th>'.format(name) for name in names)\n",
    "    header = '<tr>' + header + '</tr>'\n",
    "    body = ''.join('<td><img src=\"{}\"</td>'.format(gif) for gif in gifs)\n",
    "    body = '<tr>' + body + '</tr>'\n",
    "    html = '<table width=100%>' + header + body + '</table>'\n",
    "    return display.HTML(html)"
   ]
  },
  {
   "cell_type": "code",
   "execution_count": 24,
   "metadata": {
    "collapsed": true
   },
   "outputs": [],
   "source": [
    "def generate_gif(name, frames, out_folder, duration = 1):\n",
    "    \"\"\"\n",
    "    generate a gif in out_folder by name, and return the final path to the gif\n",
    "    \"\"\"\n",
    "    output = os.path.join(out_folder, \"{}.gif\".format(name))\n",
    "    gif.compile_frames_to_gif(frames, output, duration=duration)\n",
    "    return output\n",
    "    \n",
    "def generate_comp_gif(num_span = 4, gap = 1, duration = 1):\n",
    "    frames = test_collection[np.random.choice(range(len(test_collection)))]\n",
    "    num_seq_frames = (num_span-1)*(gap+1) + 1\n",
    "    sequence = sample_sequence(frames, num_seq_frames)\n",
    "    before_ind = np.array([(gap+1)*i for i in range(num_span)])\n",
    "    mid_ind = before_ind + (gap+1)//2\n",
    "    after_ind = before_ind + gap + 1\n",
    "    raw_seq_ind = before_ind + [after_ind[-1]]\n",
    "    \n",
    "    batch_before, batch_mid, batch_after = frames[before_ind], frames[mid_ind], frames[after_ind]\n",
    "    \n",
    "    gen_batch = get_generattion(batch_before, batch_after, batch_mid)\n",
    "    \n",
    "    batch_before = depreprocess_to_uint8(batch_before)\n",
    "    batch_mid = depreprocess_to_uint8(batch_mid)\n",
    "    batch_after = depreprocess_to_uint8(batch_after)\n",
    "    gen_batch = depreprocess_to_uint8(gen_batch)\n",
    "    baseline_batch = avg_imges(batch_before, batch_after)\n",
    "    \n",
    "    raw_frames = list(batch_before) + [batch_after[-1]]\n",
    "    baseline_frames = merge(raw_frames, baseline_batch)\n",
    "    our_frames = merge(raw_frames, gen_batch)\n",
    "    \n",
    "    rand_ind = np.random.randint(100)\n",
    "    raw_gif = generate_gif(\"Raw-{}\".format(rand_ind), raw_frames, out_folder, duration = 2*duration)\n",
    "    baseline_gif = generate_gif(\"LinerInterpolation-{}\".format(rand_ind), baseline_frames, out_folder, duration = duration)\n",
    "    our_gif = generate_gif(\"Ours-{}\".format(rand_ind), our_frames, out_folder, duration = duration)\n",
    "#     print(\"All GIF Generated!\")\n",
    "    return raw_gif, baseline_gif, our_gif\n"
   ]
  },
  {
   "cell_type": "code",
   "execution_count": 30,
   "metadata": {
    "collapsed": false
   },
   "outputs": [
    {
     "data": {
      "text/html": [
       "<table width=100%><tr><th style=\"text-align: left\">Raw Flow</th><th style=\"text-align: left\">Linear Interpolation Flow</th><th style=\"text-align: left\">Ours</th></tr><tr><td><img src=\"output/gif/moving-box/64x64/Raw-97.gif\"</td><td><img src=\"output/gif/moving-box/64x64/LinerInterpolation-97.gif\"</td><td><img src=\"output/gif/moving-box/64x64/Ours-97.gif\"</td></tr></table>"
      ],
      "text/plain": [
       "<IPython.core.display.HTML object>"
      ]
     },
     "execution_count": 30,
     "metadata": {},
     "output_type": "execute_result"
    }
   ],
   "source": [
    "out_folder = \"output/gif/moving-box/64x64/\"\n",
    "raw_gif, baseline_gif, our_gif = generate_comp_gif(num_span = 24, duration=0.2)\n",
    "display_gifs([raw_gif, baseline_gif, our_gif], [\"Raw Flow\", \"Linear Interpolation Flow\", \"Ours\"], width = 200)"
   ]
  },
  {
   "cell_type": "markdown",
   "metadata": {},
   "source": [
    "## Remove Generated GIF"
   ]
  },
  {
   "cell_type": "code",
   "execution_count": 220,
   "metadata": {
    "collapsed": true
   },
   "outputs": [],
   "source": [
    "rm output/gif/tennis/*"
   ]
  },
  {
   "cell_type": "code",
   "execution_count": null,
   "metadata": {
    "collapsed": true
   },
   "outputs": [],
   "source": []
  }
 ],
 "metadata": {
  "kernelspec": {
   "display_name": "Python 3",
   "language": "python",
   "name": "python3"
  },
  "language_info": {
   "codemirror_mode": {
    "name": "ipython",
    "version": 3
   },
   "file_extension": ".py",
   "mimetype": "text/x-python",
   "name": "python",
   "nbconvert_exporter": "python",
   "pygments_lexer": "ipython3",
   "version": "3.5.2"
  }
 },
 "nbformat": 4,
 "nbformat_minor": 2
}
