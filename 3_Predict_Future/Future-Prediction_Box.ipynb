{
 "cells": [
  {
   "cell_type": "markdown",
   "metadata": {},
   "source": [
    "# Predict Future Frame on Moving Box"
   ]
  },
  {
   "cell_type": "code",
   "execution_count": 46,
   "metadata": {},
   "outputs": [
    {
     "name": "stdout",
     "output_type": "stream",
     "text": [
      "The autoreload extension is already loaded. To reload it, use:\n",
      "  %reload_ext autoreload\n"
     ]
    }
   ],
   "source": [
    "import sys\n",
    "sys.path.append('..')\n",
    "from util import *\n",
    "from util.parser import *\n",
    "from util.img_kit import *\n",
    "from util.notebook_display import *\n",
    "from util.numeric_ops import *\n",
    "from util.tf_ops import *\n",
    "\n",
    "from IPython import display\n",
    "import numpy as np\n",
    "from scipy import ndimage\n",
    "from scipy import misc\n",
    "from os import walk\n",
    "import os\n",
    "import tensorflow as tf\n",
    "from PIL import Image\n",
    "\n",
    "import matplotlib.pyplot as plt\n",
    "%matplotlib inline\n",
    "plt.rcParams['image.interpolation'] = 'nearest'\n",
    "plt.rcParams['figure.figsize'] = (5.0, 5.0) # set default size of plots\n",
    "plt.rcParams['image.cmap'] = 'gray'\n",
    "\n",
    "%load_ext autoreload\n",
    "%autoreload 2"
   ]
  },
  {
   "cell_type": "code",
   "execution_count": 47,
   "metadata": {
    "scrolled": true
   },
   "outputs": [
    {
     "name": "stdout",
     "output_type": "stream",
     "text": [
      "{'images:': 'bigCircle-horizontal-3', 'dim': (56, 64, 64)}\n",
      "{'images:': 'bigsquare-vertical-4', 'dim': (56, 64, 64)}\n",
      "{'images:': 'bigsquare-vertical-5', 'dim': (56, 64, 64)}\n",
      "{'images:': 'bigSquare-vertical', 'dim': (56, 64, 64)}\n",
      "{'images:': 'circle-horizontal-2', 'dim': (56, 64, 64)}\n",
      "{'images:': 'circle-horizontal-3', 'dim': (56, 64, 64)}\n",
      "{'images:': 'circle-horizontal-4', 'dim': (56, 64, 64)}\n",
      "\n",
      "After Augmentation: img_collections has 7 collections, 392 images in total\n"
     ]
    }
   ],
   "source": [
    "train_collection = get_collection(\"../data/moving-box/future/train\")\n",
    "total_train = sum([x.shape[0] for x in train_collection])\n",
    "print(\"\\nAfter Augmentation: img_collections has {} collections, {} images in total\".format(len(train_collection), total_train))"
   ]
  },
  {
   "cell_type": "code",
   "execution_count": 48,
   "metadata": {},
   "outputs": [
    {
     "name": "stdout",
     "output_type": "stream",
     "text": [
      "{'images:': 'bigCircle-horizontal-2', 'dim': (56, 64, 64)}\n",
      "{'images:': 'bigSquare-vertical-2', 'dim': (56, 64, 64)}\n",
      "\n",
      "After Augmentation: img_collections has 2 collections, 112 images in total\n"
     ]
    }
   ],
   "source": [
    "test_collection = get_collection(\"../data/moving-box/future/test\")\n",
    "total_test = sum([x.shape[0] for x in test_collection])\n",
    "print(\"\\nAfter Augmentation: img_collections has {} collections, {} images in total\".format(len(test_collection), total_test))"
   ]
  },
  {
   "cell_type": "code",
   "execution_count": 49,
   "metadata": {
    "collapsed": true
   },
   "outputs": [],
   "source": [
    "def sample(collection, batch_size = 8, gap = 3):\n",
    "    \"\"\"\n",
    "    Input:\n",
    "        collection: [img_data] - list of ndarray\n",
    "    Output:\n",
    "        before_imgs, after_img - [batch size, 32, 32]\n",
    "    \"\"\"\n",
    "    np.random.shuffle(collection)\n",
    "    # get average number of training for each class\n",
    "    n_collection = len(collection)\n",
    "    num_per_collection = [x.shape[0] for x in collection]\n",
    "    avg_num_per_class = 2 * int(np.ceil(batch_size/n_collection))\n",
    "    # before-index for each class\n",
    "    before_ind = []\n",
    "    for i, imgs in enumerate(collection):\n",
    "        try:\n",
    "            s = np.random.choice(range(0, num_per_collection[i]- gap - 1), avg_num_per_class, replace=False)\n",
    "            before_ind.append(s)\n",
    "        except: # if not enough in this class\n",
    "            before_ind.append(np.array([]))\n",
    "    # after-index for each class\n",
    "    after_ind = [x+gap+1 for x in before_ind]\n",
    "    \n",
    "    selected_classes = [i for i in range(n_collection) if before_ind[i].shape[0]>0]\n",
    "    before_imgs = np.concatenate([collection[i][before_ind[i]] for i in selected_classes], axis = 0)\n",
    "    after_imgs = np.concatenate([collection[i][after_ind[i]] for i in selected_classes], axis = 0)\n",
    "    \n",
    "    before_imgs = before_imgs[:batch_size]\n",
    "    after_imgs = after_imgs[:batch_size]\n",
    "    assert len(before_imgs) == batch_size\n",
    "    assert len(after_imgs) == batch_size\n",
    "    return before_imgs, after_imgs\n",
    "\n",
    "\n",
    "def sample_train(batch_size = 8, gap=3): return sample(train_collection, batch_size, gap)\n",
    "\n",
    "def sample_test(batch_size = 8, gap=3):  return sample(test_collection, batch_size, gap)"
   ]
  },
  {
   "cell_type": "code",
   "execution_count": 51,
   "metadata": {},
   "outputs": [
    {
     "name": "stdout",
     "output_type": "stream",
     "text": [
      "(6, 64, 64)\n",
      "Range of Image Piece Value: [0.0, 1.0]\n",
      "Before: (6, 64, 64)\n",
      "After:  (6, 64, 64)\n"
     ]
    },
    {
     "data": {
      "image/png": "[encoded data removed]",
      "text/plain": [
       "<matplotlib.figure.Figure at 0x114d320f0>"
      ]
     },
     "metadata": {},
     "output_type": "display_data"
    },
    {
     "data": {
      "image/png": "[encoded data removed]",
      "text/plain": [
       "<matplotlib.figure.Figure at 0x1156bb8d0>"
      ]
     },
     "metadata": {},
     "output_type": "display_data"
    }
   ],
   "source": [
    "def show_sample_train(batch_size, gap = 3):\n",
    "    before, after = sample_train(batch_size=batch_size, gap = gap)\n",
    "    print(before.shape)\n",
    "    print(\"Range of Image Piece Value: [{}, {}]\".format(np.min(before), np.max(before)))\n",
    "    print(\"Before: {}\".format(before.shape))\n",
    "    print(\"After:  {}\".format(after.shape))\n",
    "    size = (20, 3)\n",
    "    plot_images(before, size, \"Before\")\n",
    "    plot_images(after, size, \"After\")\n",
    "    \n",
    "show_sample_train(batch_size = 6, gap = 9)"
   ]
  },
  {
   "cell_type": "code",
   "execution_count": null,
   "metadata": {
    "collapsed": true
   },
   "outputs": [],
   "source": [
    "gap = 3"
   ]
  },
  {
   "cell_type": "code",
   "execution_count": null,
   "metadata": {
    "collapsed": true
   },
   "outputs": [],
   "source": [
    "feature_channel = 128\n",
    "\n",
    "batch_size = 32\n",
    "\n",
    "learning_rate = 8e-5\n",
    "\n",
    "beta = 0.7 # defalut 0.9 for adam\n",
    "num_iteration = 8000\n",
    "# curr_time = time()\n",
    "# model_save_path = \"../trained_model/box-64x64/{}/\".format(curr_time)\n",
    "# curve_save_path = \"../output/learning_curve/box-64x64-{}\".format(curr_time)"
   ]
  },
  {
   "cell_type": "code",
   "execution_count": null,
   "metadata": {
    "collapsed": true
   },
   "outputs": [],
   "source": [
    "def encode(img, is_training=True):\n",
    "    \"\"\"\n",
    "    Input:\n",
    "        batch size of img\n",
    "    Output:\n",
    "        batch size of feature [batch_size, 8, 8, feature_channel]\n",
    "    \"\"\"\n",
    "    x = tf.reshape(img, [-1, 64, 64, 1])\n",
    "    x = tf.layers.conv2d(x, filters = 32, kernel_size=5, strides=2, padding='same', activation=tf.nn.relu)\n",
    "    \n",
    "    x = tf.layers.conv2d(x, filters = 64, kernel_size=4, strides=2, padding='same', activation=tf.nn.relu)\n",
    "\n",
    "    x = tf.layers.conv2d(x, filters = 64, kernel_size=3, strides=1, padding='same', activation=tf.nn.relu)\n",
    "\n",
    "    x = tf.layers.conv2d(x, filters = 128, kernel_size=2, padding='same', activation=tf.nn.relu)\n",
    "    \n",
    "    x = tf.layers.conv2d(x, filters = feature_channel, kernel_size=2, padding='same', activation=tf.nn.relu)\n",
    "    return x"
   ]
  },
  {
   "cell_type": "code",
   "execution_count": null,
   "metadata": {
    "collapsed": true
   },
   "outputs": [],
   "source": [
    "def decode(feature1, feature2, is_training=True):\n",
    "    \"\"\"\n",
    "    Input:\n",
    "        batch size of feature [batch_size, 8, 8, feature_channel]\n",
    "    Output:\n",
    "        batch size of img [batch_size, 32, 32, 1]\n",
    "    \"\"\"\n",
    "    x = tf.concat([feature1, feature2], axis=3)\n",
    "\n",
    "    x = tf.layers.conv2d_transpose(x, filters=32, kernel_size=2, strides=1, activation=tf.nn.relu, padding='same')\n",
    "    x = tf.layers.conv2d_transpose(x, filters=64, kernel_size=3, strides=1, activation=tf.nn.relu, padding='same')\n",
    "    x = tf.layers.conv2d_transpose(x, filters=64, kernel_size=4, strides=2, activation=tf.nn.relu, padding='same')\n",
    "    x = tf.layers.conv2d_transpose(x, filters=64, kernel_size=5, strides=2, activation=tf.nn.relu, padding='same')\n",
    "    x = tf.layers.conv2d_transpose(x, filters=64, kernel_size=3,  strides=1, activation=tf.nn.tanh, padding='same')\n",
    "    x = tf.layers.conv2d_transpose(x, filters=32, kernel_size=2,  strides=1, activation=tf.nn.tanh, padding='same')\n",
    "    img = tf.layers.conv2d_transpose(x, filters=1, kernel_size=2,  strides=1, activation=tf.nn.tanh, padding='same')\n",
    "    return img"
   ]
  }
 ],
 "metadata": {
  "kernelspec": {
   "display_name": "Python 3",
   "language": "python",
   "name": "python3"
  },
  "language_info": {
   "codemirror_mode": {
    "name": "ipython",
    "version": 3
   },
   "file_extension": ".py",
   "mimetype": "text/x-python",
   "name": "python",
   "nbconvert_exporter": "python",
   "pygments_lexer": "ipython3",
   "version": "3.6.1"
  }
 },
 "nbformat": 4,
 "nbformat_minor": 2
}
