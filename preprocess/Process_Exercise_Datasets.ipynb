{
 "cells": [
  {
   "cell_type": "markdown",
   "metadata": {},
   "source": [
    "# Process Exercise Dataset"
   ]
  },
  {
   "cell_type": "code",
   "execution_count": 21,
   "metadata": {},
   "outputs": [
    {
     "name": "stdout",
     "output_type": "stream",
     "text": [
      "The autoreload extension is already loaded. To reload it, use:\n",
      "  %reload_ext autoreload\n"
     ]
    }
   ],
   "source": [
    "from util import *\n",
    "from util.parser import *\n",
    "from util.img_kit import *\n",
    "from util.notebook_display import *\n",
    "from util.numeric_ops import *\n",
    "from IPython import display\n",
    "import numpy as np\n",
    "from scipy import ndimage\n",
    "from scipy import misc\n",
    "from os import walk\n",
    "import os\n",
    "import tensorflow as tf\n",
    "from PIL import Image\n",
    "\n",
    "import matplotlib.pyplot as plt\n",
    "%matplotlib inline\n",
    "plt.rcParams['image.interpolation'] = 'nearest'\n",
    "plt.rcParams['figure.figsize'] = (5.0, 5.0) # set default size of plots\n",
    "plt.rcParams['image.cmap'] = 'gray'\n",
    "from os import walk\n",
    "%load_ext autoreload\n",
    "%autoreload 2"
   ]
  },
  {
   "cell_type": "code",
   "execution_count": 18,
   "metadata": {
    "collapsed": true
   },
   "outputs": [],
   "source": [
    "def get_names_from_file(file):\n",
    "    \"\"\"\n",
    "    Input:\n",
    "        text file\n",
    "    Ouput:\n",
    "        [name]\n",
    "    \"\"\"\n",
    "    with open(file) as f:\n",
    "        return set([x.strip() for x in f.readlines()])"
   ]
  },
  {
   "cell_type": "code",
   "execution_count": 69,
   "metadata": {},
   "outputs": [
    {
     "name": "stdout",
     "output_type": "stream",
     "text": [
      "train_namms: 49356 \n",
      "['02_003120', '03_002010', '12_001315']....\n",
      "test_namms: 500 \n",
      "['06_000281', '18_000687', '08_001931']....\n"
     ]
    }
   ],
   "source": [
    "ex_data_folder = \"data/Exercise/\"\n",
    "train_namms = get_names_from_file(ex_data_folder + \"train.txt\")\n",
    "print(\"train_namms: {} \\n{}....\".format(len(train_namms), list(train_namms)[:3]))\n",
    "test_namms = get_names_from_file(ex_data_folder + \"test.txt\")\n",
    "print(\"test_namms: {} \\n{}....\".format(len(test_namms), list(test_namms)[:3]))"
   ]
  },
  {
   "cell_type": "code",
   "execution_count": 74,
   "metadata": {},
   "outputs": [],
   "source": [
    "def move_imgs(folder, names, output_folder):\n",
    "    \"\"\"\n",
    "    Input:\n",
    "        folder: path of folder of images\n",
    "        names:  set of img names\n",
    "    Ouput:\n",
    "        np array of [n_pairs, 2, hight, width, 3]\n",
    "    \"\"\"\n",
    "    imgs = files_in_folder(folder, \"png\")\n",
    "    imgs = [x for x in imgs if x.split(\".\")[0][:-4] in names]\n",
    "    print(len(imgs))\n",
    "    for img in imgs:\n",
    "        os.rename(os.path.join(folder, img), os.path.join(output_folder, img))\n",
    "    "
   ]
  },
  {
   "cell_type": "code",
   "execution_count": 76,
   "metadata": {},
   "outputs": [
    {
     "name": "stdout",
     "output_type": "stream",
     "text": [
      "98712\n",
      "1000\n"
     ]
    }
   ],
   "source": [
    "move_imgs(ex_data_folder + \"images\", train_namms, ex_data_folder + \"train\")\n",
    "move_imgs(ex_data_folder + \"images\", test_namms, ex_data_folder + \"test\")"
   ]
  }
 ],
 "metadata": {
  "kernelspec": {
   "display_name": "Python 3",
   "language": "python",
   "name": "python3"
  },
  "language_info": {
   "codemirror_mode": {
    "name": "ipython",
    "version": 3
   },
   "file_extension": ".py",
   "mimetype": "text/x-python",
   "name": "python",
   "nbconvert_exporter": "python",
   "pygments_lexer": "ipython3",
   "version": "3.6.1"
  }
 },
 "nbformat": 4,
 "nbformat_minor": 2
}
