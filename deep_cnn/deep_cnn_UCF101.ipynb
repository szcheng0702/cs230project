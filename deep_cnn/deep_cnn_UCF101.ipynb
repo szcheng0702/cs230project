{
 "cells": [
  {
   "cell_type": "code",
   "execution_count": 2,
   "metadata": {
    "collapsed": true
   },
   "outputs": [],
   "source": [
    "import tensorflow as tf\n",
    "from util import *\n",
    "from util.parser import *\n",
    "from util.img_kit import *\n",
    "from IPython import display\n",
    "import numpy as np\n",
    "from scipy import ndimage\n",
    "from scipy import misc\n",
    "from os import walk\n",
    "import os, json\n",
    "from PIL import Image\n",
    "\n",
    "import matplotlib.pyplot as plt\n",
    "%matplotlib inline\n",
    "plt.rcParams['image.interpolation'] = 'nearest'\n",
    "plt.rcParams['figure.figsize'] = (10.0, 10) # set default size of plots"
   ]
  },
  {
   "cell_type": "code",
   "execution_count": 28,
   "metadata": {},
   "outputs": [],
   "source": [
    "with open('data/test_metadata.json') as data_file:    \n",
    "    metadata = json.load(data_file)"
   ]
  },
  {
   "cell_type": "code",
   "execution_count": 22,
   "metadata": {
    "collapsed": true
   },
   "outputs": [],
   "source": [
    "img_folder = \"data/UCF-101-img-test/SoccerPenalty/\"\n",
    "imgs = [p[2] for p in walk(img_folder)][0]\n",
    "imgs = list(filter(lambda x:x.startswith(\"v_SoccerPenalty_g01\"), imgs))"
   ]
  },
  {
   "cell_type": "code",
   "execution_count": 68,
   "metadata": {},
   "outputs": [
    {
     "name": "stdout",
     "output_type": "stream",
     "text": [
      "(768, 240, 320, 3)\n"
     ]
    }
   ],
   "source": [
    "data = np.concatenate([misc.imread(img_folder+i)[np.newaxis, ...] for i in imgs], axis = 0)\n",
    "data = data.astype('float32')\n",
    "print(data.shape)"
   ]
  },
  {
   "cell_type": "code",
   "execution_count": 61,
   "metadata": {
    "collapsed": true
   },
   "outputs": [],
   "source": [
    "def generate_index(clip_indices):\n",
    "    x_start_index = []\n",
    "    x_end_index = []\n",
    "    y_index = []\n",
    "    for i in clip_indices:\n",
    "        clip_list = metadata['SoccerPenalty'][0][i]\n",
    "        start_index = list(range(0, len(clip_list) - gap))\n",
    "        end_index = [i + gap for i in start_index]\n",
    "        mid_index = [i + mid_gap for i in start_index]\n",
    "        x_start_index += [metadata['SoccerPenalty'][0][i][j] for j in start_index]\n",
    "        x_end_index += [metadata['SoccerPenalty'][0][i][j] for j in end_index]\n",
    "        y_index += [metadata['SoccerPenalty'][0][i][j] for j in mid_index]\n",
    "    return (x_start_index, x_end_index, y_index)"
   ]
  },
  {
   "cell_type": "code",
   "execution_count": 64,
   "metadata": {},
   "outputs": [],
   "source": [
    "gap = 10\n",
    "mid_gap = gap//2\n",
    "# training set\n",
    "train_x_start_index, train_x_end_index, train_y_index = generate_index(list(range(len(metadata['SoccerPenalty'][0])-1)))\n",
    "# test set\n",
    "test_x_start_index, test_x_end_index, test_y_index = generate_index([len(metadata['SoccerPenalty'][0])-1])"
   ]
  },
  {
   "cell_type": "code",
   "execution_count": 72,
   "metadata": {},
   "outputs": [
    {
     "name": "stdout",
     "output_type": "stream",
     "text": [
      "(626, 240, 320, 6)\n",
      "(626, 240, 320, 3)\n",
      "(82, 240, 320, 6)\n",
      "(82, 240, 320, 3)\n"
     ]
    }
   ],
   "source": [
    "start_frames = data[train_x_start_index, :, :]\n",
    "end_frames = data[train_x_end_index, :, :]\n",
    "train_mean_frames = (start_frames + end_frames)/2\n",
    "X_train = np.concatenate([start_frames - train_mean_frames, end_frames - train_mean_frames], axis = 3)\n",
    "y_train = data[train_y_index, :, :]\n",
    "start_frames = data[test_x_start_index, :, :]\n",
    "end_frames = data[test_x_end_index, :, :]\n",
    "test_mean_frames = (start_frames + end_frames)/2\n",
    "X_test = np.concatenate([start_frames - test_mean_frames, end_frames - test_mean_frames], axis = 3)\n",
    "y_test = data[test_y_index, :, :]\n",
    "print(X_train.shape)\n",
    "print(y_train.shape)\n",
    "print(X_test.shape)\n",
    "print(y_test.shape)"
   ]
  },
  {
   "cell_type": "code",
   "execution_count": 71,
   "metadata": {},
   "outputs": [],
   "source": [
    "batch_size = 16"
   ]
  },
  {
   "cell_type": "code",
   "execution_count": 73,
   "metadata": {},
   "outputs": [],
   "source": [
    "def sample(X_train, y_train):\n",
    "    \"\"\"\n",
    "    Select a batch size of data-point from X and y\n",
    "    \"\"\"\n",
    "    size = X_train.shape[0]\n",
    "    indices = np.random.choice(list(range(size)), size = batch_size)\n",
    "    batch = (X_train[indices, :, :, :], y_train[indices, :, :, :])\n",
    "    return batch"
   ]
  },
  {
   "cell_type": "code",
   "execution_count": 75,
   "metadata": {},
   "outputs": [],
   "source": [
    "def conv_pool_block(inputs, conv_filter, conv_kernel, pool_size, pool_stride):\n",
    "    conv1 = tf.layers.conv2d(inputs, \n",
    "                             conv_filter, \n",
    "                             conv_kernel,\n",
    "                             padding='same', \n",
    "                             activation=tf.nn.relu)\n",
    "    pooled = tf.layers.max_pooling2d(conv1, pool_size, pool_stride)\n",
    "    return pooled\n",
    "def dconv_block(inputs, dconv_filter, dconv_kernel, dconv_strides, activation = None, res_conv = None):\n",
    "    if activation == 'ReLu':\n",
    "        dconv = tf.layers.conv2d_transpose(inputs, \n",
    "                                       filters = dconv_filter, \n",
    "                                       kernel_size = dconv_kernel, \n",
    "                                       strides = dconv_strides, \n",
    "                                       padding='same',\n",
    "                                       activation=tf.nn.relu)\n",
    "    else:\n",
    "        dconv = tf.layers.conv2d_transpose(inputs, \n",
    "                                       filters = dconv_filter, \n",
    "                                       kernel_size = dconv_kernel, \n",
    "                                       strides = dconv_strides, \n",
    "                                       padding='same')\n",
    "    if res_conv is None:\n",
    "        return dconv\n",
    "    conv_concat = tf.concat([dconv, res_conv],3)\n",
    "    return conv_concat"
   ]
  },
  {
   "cell_type": "code",
   "execution_count": 79,
   "metadata": {
    "collapsed": true
   },
   "outputs": [],
   "source": [
    "tf.reset_default_graph()\n",
    "def my_model(X,y):\n",
    "    block1 = conv_pool_block(X, 24, (3,3), (2,2), (2,2))  #(N, 128, 128, 24)\n",
    "    block2 = conv_pool_block(block1, 48, (3,3), (2,2), (2,2))  #(N, 64, 64, 48)\n",
    "    block3 = conv_pool_block(block2, 96, (3,3), (2,2), (2,2))  #(N, 32, 32, 96)\n",
    "    block4 = conv_pool_block(block3, 192, (3,3), (2,2), (2,2))  #(N, 16, 16, 192)\n",
    "    dconv_block1 = dconv_block(block4, 96, (3,3), (2,2), 'ReLu', block3) #(N, 32, 32, 192)\n",
    "    dconv_block2 = dconv_block(dconv_block1, 48, (3,3), (2,2), 'ReLu',block2) #(N, 64, 64, 96)\n",
    "    dconv_block3 = dconv_block(dconv_block2, 24, (3,3), (2,2), 'ReLu',block1) #(N, 128, 128, 48)\n",
    "    y_out = dconv_block(dconv_block3, 3, (3,3),(2,2))\n",
    "    return y_out\n",
    "\n",
    "X = tf.placeholder(tf.float32, [None, 240, 320, 6])\n",
    "y = tf.placeholder(tf.float32, [None, 240, 320, 3])\n",
    "\n",
    "learning_rate = 3e-3\n",
    "y_out = my_model(X,y)\n",
    "\n",
    "mean_loss = tf.reduce_mean(tf.nn.l2_loss(y_out - y))\n",
    "optimizer = tf.train.AdamOptimizer(learning_rate)\n",
    "# batch normalization in tensorflow requires this extra dependency\n",
    "extra_update_ops = tf.get_collection(tf.GraphKeys.UPDATE_OPS)\n",
    "with tf.control_dependencies(extra_update_ops):\n",
    "    train_step = optimizer.minimize(mean_loss)\n",
    "\n",
    "pass"
   ]
  },
  {
   "cell_type": "code",
   "execution_count": 80,
   "metadata": {},
   "outputs": [
    {
     "name": "stdout",
     "output_type": "stream",
     "text": [
      "batch : 0  loss: 2.975e+10\n",
      "batch : 10  loss: 2.835e+10\n",
      "batch : 20  loss: 2.639e+10\n",
      "batch : 30  loss: 1.712e+10\n",
      "batch : 40  loss: 1.337e+10\n",
      "batch : 50  loss: 1.044e+10\n",
      "batch : 60  loss: 7.164e+09\n"
     ]
    },
    {
     "ename": "KeyboardInterrupt",
     "evalue": "",
     "output_type": "error",
     "traceback": [
      "\u001b[0;31m---------------------------------------------------------------------------\u001b[0m",
      "\u001b[0;31mKeyboardInterrupt\u001b[0m                         Traceback (most recent call last)",
      "\u001b[0;32m<ipython-input-80-37aa4fca98d0>\u001b[0m in \u001b[0;36m<module>\u001b[0;34m()\u001b[0m\n\u001b[1;32m      7\u001b[0m     \u001b[0msampled\u001b[0m \u001b[0;34m=\u001b[0m \u001b[0msample\u001b[0m\u001b[0;34m(\u001b[0m\u001b[0mX_train\u001b[0m\u001b[0;34m,\u001b[0m \u001b[0my_train\u001b[0m\u001b[0;34m)\u001b[0m\u001b[0;34m\u001b[0m\u001b[0m\n\u001b[1;32m      8\u001b[0m     \u001b[0mfeed_dict\u001b[0m \u001b[0;34m=\u001b[0m \u001b[0;34m{\u001b[0m\u001b[0mX\u001b[0m\u001b[0;34m:\u001b[0m \u001b[0msampled\u001b[0m\u001b[0;34m[\u001b[0m\u001b[0;36m0\u001b[0m\u001b[0;34m]\u001b[0m\u001b[0;34m,\u001b[0m \u001b[0my\u001b[0m\u001b[0;34m:\u001b[0m \u001b[0msampled\u001b[0m\u001b[0;34m[\u001b[0m\u001b[0;36m1\u001b[0m\u001b[0;34m]\u001b[0m\u001b[0;34m}\u001b[0m\u001b[0;34m\u001b[0m\u001b[0m\n\u001b[0;32m----> 9\u001b[0;31m     \u001b[0mloss\u001b[0m\u001b[0;34m,\u001b[0m \u001b[0m_\u001b[0m \u001b[0;34m=\u001b[0m \u001b[0msess\u001b[0m\u001b[0;34m.\u001b[0m\u001b[0mrun\u001b[0m\u001b[0;34m(\u001b[0m\u001b[0mvariables\u001b[0m\u001b[0;34m,\u001b[0m\u001b[0mfeed_dict\u001b[0m\u001b[0;34m=\u001b[0m\u001b[0mfeed_dict\u001b[0m\u001b[0;34m)\u001b[0m\u001b[0;34m\u001b[0m\u001b[0m\n\u001b[0m\u001b[1;32m     10\u001b[0m     \u001b[0mhistory\u001b[0m\u001b[0;34m.\u001b[0m\u001b[0mappend\u001b[0m\u001b[0;34m(\u001b[0m\u001b[0mloss\u001b[0m\u001b[0;34m)\u001b[0m\u001b[0;34m\u001b[0m\u001b[0m\n\u001b[1;32m     11\u001b[0m     \u001b[0;32mif\u001b[0m \u001b[0me\u001b[0m \u001b[0;34m%\u001b[0m \u001b[0;36m10\u001b[0m \u001b[0;34m==\u001b[0m \u001b[0;36m0\u001b[0m\u001b[0;34m:\u001b[0m\u001b[0;34m\u001b[0m\u001b[0m\n",
      "\u001b[0;32m/usr/local/lib/python3.6/site-packages/tensorflow/python/client/session.py\u001b[0m in \u001b[0;36mrun\u001b[0;34m(self, fetches, feed_dict, options, run_metadata)\u001b[0m\n\u001b[1;32m    765\u001b[0m     \u001b[0;32mtry\u001b[0m\u001b[0;34m:\u001b[0m\u001b[0;34m\u001b[0m\u001b[0m\n\u001b[1;32m    766\u001b[0m       result = self._run(None, fetches, feed_dict, options_ptr,\n\u001b[0;32m--> 767\u001b[0;31m                          run_metadata_ptr)\n\u001b[0m\u001b[1;32m    768\u001b[0m       \u001b[0;32mif\u001b[0m \u001b[0mrun_metadata\u001b[0m\u001b[0;34m:\u001b[0m\u001b[0;34m\u001b[0m\u001b[0m\n\u001b[1;32m    769\u001b[0m         \u001b[0mproto_data\u001b[0m \u001b[0;34m=\u001b[0m \u001b[0mtf_session\u001b[0m\u001b[0;34m.\u001b[0m\u001b[0mTF_GetBuffer\u001b[0m\u001b[0;34m(\u001b[0m\u001b[0mrun_metadata_ptr\u001b[0m\u001b[0;34m)\u001b[0m\u001b[0;34m\u001b[0m\u001b[0m\n",
      "\u001b[0;32m/usr/local/lib/python3.6/site-packages/tensorflow/python/client/session.py\u001b[0m in \u001b[0;36m_run\u001b[0;34m(self, handle, fetches, feed_dict, options, run_metadata)\u001b[0m\n\u001b[1;32m    963\u001b[0m     \u001b[0;32mif\u001b[0m \u001b[0mfinal_fetches\u001b[0m \u001b[0;32mor\u001b[0m \u001b[0mfinal_targets\u001b[0m\u001b[0;34m:\u001b[0m\u001b[0;34m\u001b[0m\u001b[0m\n\u001b[1;32m    964\u001b[0m       results = self._do_run(handle, final_targets, final_fetches,\n\u001b[0;32m--> 965\u001b[0;31m                              feed_dict_string, options, run_metadata)\n\u001b[0m\u001b[1;32m    966\u001b[0m     \u001b[0;32melse\u001b[0m\u001b[0;34m:\u001b[0m\u001b[0;34m\u001b[0m\u001b[0m\n\u001b[1;32m    967\u001b[0m       \u001b[0mresults\u001b[0m \u001b[0;34m=\u001b[0m \u001b[0;34m[\u001b[0m\u001b[0;34m]\u001b[0m\u001b[0;34m\u001b[0m\u001b[0m\n",
      "\u001b[0;32m/usr/local/lib/python3.6/site-packages/tensorflow/python/client/session.py\u001b[0m in \u001b[0;36m_do_run\u001b[0;34m(self, handle, target_list, fetch_list, feed_dict, options, run_metadata)\u001b[0m\n\u001b[1;32m   1013\u001b[0m     \u001b[0;32mif\u001b[0m \u001b[0mhandle\u001b[0m \u001b[0;32mis\u001b[0m \u001b[0;32mNone\u001b[0m\u001b[0;34m:\u001b[0m\u001b[0;34m\u001b[0m\u001b[0m\n\u001b[1;32m   1014\u001b[0m       return self._do_call(_run_fn, self._session, feed_dict, fetch_list,\n\u001b[0;32m-> 1015\u001b[0;31m                            target_list, options, run_metadata)\n\u001b[0m\u001b[1;32m   1016\u001b[0m     \u001b[0;32melse\u001b[0m\u001b[0;34m:\u001b[0m\u001b[0;34m\u001b[0m\u001b[0m\n\u001b[1;32m   1017\u001b[0m       return self._do_call(_prun_fn, self._session, handle, feed_dict,\n",
      "\u001b[0;32m/usr/local/lib/python3.6/site-packages/tensorflow/python/client/session.py\u001b[0m in \u001b[0;36m_do_call\u001b[0;34m(self, fn, *args)\u001b[0m\n\u001b[1;32m   1020\u001b[0m   \u001b[0;32mdef\u001b[0m \u001b[0m_do_call\u001b[0m\u001b[0;34m(\u001b[0m\u001b[0mself\u001b[0m\u001b[0;34m,\u001b[0m \u001b[0mfn\u001b[0m\u001b[0;34m,\u001b[0m \u001b[0;34m*\u001b[0m\u001b[0margs\u001b[0m\u001b[0;34m)\u001b[0m\u001b[0;34m:\u001b[0m\u001b[0;34m\u001b[0m\u001b[0m\n\u001b[1;32m   1021\u001b[0m     \u001b[0;32mtry\u001b[0m\u001b[0;34m:\u001b[0m\u001b[0;34m\u001b[0m\u001b[0m\n\u001b[0;32m-> 1022\u001b[0;31m       \u001b[0;32mreturn\u001b[0m \u001b[0mfn\u001b[0m\u001b[0;34m(\u001b[0m\u001b[0;34m*\u001b[0m\u001b[0margs\u001b[0m\u001b[0;34m)\u001b[0m\u001b[0;34m\u001b[0m\u001b[0m\n\u001b[0m\u001b[1;32m   1023\u001b[0m     \u001b[0;32mexcept\u001b[0m \u001b[0merrors\u001b[0m\u001b[0;34m.\u001b[0m\u001b[0mOpError\u001b[0m \u001b[0;32mas\u001b[0m \u001b[0me\u001b[0m\u001b[0;34m:\u001b[0m\u001b[0;34m\u001b[0m\u001b[0m\n\u001b[1;32m   1024\u001b[0m       \u001b[0mmessage\u001b[0m \u001b[0;34m=\u001b[0m \u001b[0mcompat\u001b[0m\u001b[0;34m.\u001b[0m\u001b[0mas_text\u001b[0m\u001b[0;34m(\u001b[0m\u001b[0me\u001b[0m\u001b[0;34m.\u001b[0m\u001b[0mmessage\u001b[0m\u001b[0;34m)\u001b[0m\u001b[0;34m\u001b[0m\u001b[0m\n",
      "\u001b[0;32m/usr/local/lib/python3.6/site-packages/tensorflow/python/client/session.py\u001b[0m in \u001b[0;36m_run_fn\u001b[0;34m(session, feed_dict, fetch_list, target_list, options, run_metadata)\u001b[0m\n\u001b[1;32m   1002\u001b[0m         return tf_session.TF_Run(session, options,\n\u001b[1;32m   1003\u001b[0m                                  \u001b[0mfeed_dict\u001b[0m\u001b[0;34m,\u001b[0m \u001b[0mfetch_list\u001b[0m\u001b[0;34m,\u001b[0m \u001b[0mtarget_list\u001b[0m\u001b[0;34m,\u001b[0m\u001b[0;34m\u001b[0m\u001b[0m\n\u001b[0;32m-> 1004\u001b[0;31m                                  status, run_metadata)\n\u001b[0m\u001b[1;32m   1005\u001b[0m \u001b[0;34m\u001b[0m\u001b[0m\n\u001b[1;32m   1006\u001b[0m     \u001b[0;32mdef\u001b[0m \u001b[0m_prun_fn\u001b[0m\u001b[0;34m(\u001b[0m\u001b[0msession\u001b[0m\u001b[0;34m,\u001b[0m \u001b[0mhandle\u001b[0m\u001b[0;34m,\u001b[0m \u001b[0mfeed_dict\u001b[0m\u001b[0;34m,\u001b[0m \u001b[0mfetch_list\u001b[0m\u001b[0;34m)\u001b[0m\u001b[0;34m:\u001b[0m\u001b[0;34m\u001b[0m\u001b[0m\n",
      "\u001b[0;31mKeyboardInterrupt\u001b[0m: "
     ]
    },
    {
     "data": {
      "image/png": "[encoded data removed]",
      "text/plain": [
       "<matplotlib.figure.Figure at 0x13cd25940>"
      ]
     },
     "metadata": {},
     "output_type": "display_data"
    }
   ],
   "source": [
    "iterations = 200\n",
    "sess =  tf.Session()\n",
    "sess.run(tf.global_variables_initializer())\n",
    "variables = [mean_loss,train_step]\n",
    "history = []\n",
    "for e in range(iterations):\n",
    "    sampled = sample(X_train, y_train)\n",
    "    feed_dict = {X: sampled[0], y: sampled[1]}\n",
    "    loss, _ = sess.run(variables,feed_dict=feed_dict)\n",
    "    history.append(loss)\n",
    "    if e % 10 == 0:\n",
    "        print('batch : {0}  loss: {1:.3e}'.format(e, loss))\n",
    "    plt.plot(history)"
   ]
  },
  {
   "cell_type": "code",
   "execution_count": null,
   "metadata": {
    "collapsed": true
   },
   "outputs": [],
   "source": []
  }
 ],
 "metadata": {
  "kernelspec": {
   "display_name": "Python 3",
   "language": "python",
   "name": "python3"
  },
  "language_info": {
   "codemirror_mode": {
    "name": "ipython",
    "version": 3
   },
   "file_extension": ".py",
   "mimetype": "text/x-python",
   "name": "python",
   "nbconvert_exporter": "python",
   "pygments_lexer": "ipython3",
   "version": "3.6.1"
  }
 },
 "nbformat": 4,
 "nbformat_minor": 2
}
